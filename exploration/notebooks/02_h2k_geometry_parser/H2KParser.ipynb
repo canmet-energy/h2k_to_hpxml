{
 "cells": [
  {
   "cell_type": "markdown",
   "id": "4b1363a7",
   "metadata": {},
   "source": [
    "# Development of a h2k parser\n",
    "I adopted Adam's h2k parser to extract the geometry data from a h2k file."
   ]
  },
  {
   "cell_type": "code",
   "execution_count": 1,
   "id": "97864b55",
   "metadata": {},
   "outputs": [],
   "source": [
    "import xmlschema\n",
    "from operator import itemgetter"
   ]
  },
  {
   "cell_type": "code",
   "execution_count": 2,
   "id": "ae484c63",
   "metadata": {},
   "outputs": [],
   "source": [
    "h2k_schema = xmlschema.XMLSchema('../../../schemas/h2k/H2k Schema.xsd')\n",
    "assert h2k_schema.is_valid('../../data/h2k/ERS-1032.H2K'), \"Not a valid h2k file\"\n",
    "h2k_dict = h2k_schema.to_dict('../../data/h2k/ERS-1032.H2K')"
   ]
  },
  {
   "cell_type": "code",
   "execution_count": 3,
   "id": "a84ff66b",
   "metadata": {},
   "outputs": [
    {
     "data": {
      "text/plain": [
       "dict_keys(['@xmlns:xsd', '@xmlns:xsi', '@{http://www.w3.org/XML/1998/namespace}lang', '@uiUnits', 'Version', 'Application', 'ProgramInformation', 'House', 'Codes', 'FuelCosts', 'AllResults', 'Program'])"
      ]
     },
     "execution_count": 3,
     "metadata": {},
     "output_type": "execute_result"
    }
   ],
   "source": [
    "h2k_dict.keys()"
   ]
  },
  {
   "cell_type": "markdown",
   "id": "c4d4abbe",
   "metadata": {},
   "source": [
    "## Get h2k file identifications\n"
   ]
  },
  {
   "cell_type": "code",
   "execution_count": 4,
   "id": "d66a0266",
   "metadata": {},
   "outputs": [
    {
     "name": "stdout",
     "output_type": "stream",
     "text": [
      "Version major= 1 and minor= 3\n"
     ]
    }
   ],
   "source": [
    "#version_major = h2k_dict['Version']['@major']\n",
    "#version_minor = h2k_dict['Version']['@minor']\n",
    "major, minor = itemgetter('@major','@minor')(h2k_dict['Version'])\n",
    "print(\"Version major= {} and minor= {}\".format(major, minor))"
   ]
  },
  {
   "cell_type": "code",
   "execution_count": 5,
   "id": "722e712a",
   "metadata": {},
   "outputs": [
    {
     "name": "stdout",
     "output_type": "stream",
     "text": [
      "ERS-1032\n"
     ]
    }
   ],
   "source": [
    "fileID = h2k_dict['ProgramInformation']['File']['Identification']\n",
    "print(fileID)"
   ]
  },
  {
   "cell_type": "code",
   "execution_count": 6,
   "id": "b9bca47b",
   "metadata": {},
   "outputs": [
    {
     "name": "stdout",
     "output_type": "stream",
     "text": [
      "Region: YUKON TERRITORY, Location: WHITEHORSE, Depth of Frost= 1.2192, HDD= 6580.0\n"
     ]
    }
   ],
   "source": [
    "weather_prov = h2k_dict['ProgramInformation']['Weather']['Region']['English']\n",
    "weather_loc = h2k_dict['ProgramInformation']['Weather']['Location']['English']\n",
    "#weather_frostdepth = float(h2k_dict['ProgramInformation']['Weather']['@depthOfFrost'])\n",
    "#weather_hdd = float(h2k_dict['ProgramInformation']['Weather']['@heatingDegreeDay'])\n",
    "frostdepth, hdd = itemgetter('@depthOfFrost', '@heatingDegreeDay')(h2k_dict['ProgramInformation']['Weather'])\n",
    "print(\"Region: {}, Location: {}, Depth of Frost= {}, HDD= {}\".format(weather_prov, weather_loc, float(frostdepth), float(hdd)))"
   ]
  },
  {
   "cell_type": "markdown",
   "id": "a7bc5f9f",
   "metadata": {},
   "source": [
    "# Get h2k specifications"
   ]
  },
  {
   "cell_type": "code",
   "execution_count": 7,
   "id": "52dbaf02",
   "metadata": {},
   "outputs": [
    {
     "name": "stdout",
     "output_type": "stream",
     "text": [
      "House type: Row house, middle unit, and type code=8\n",
      "Plan shape: Rectangular, and shape code=1\n",
      "Storeys: Two storeys, and storeys code=3\n",
      "Facing direction: North, and facing direction code=5\n",
      "Thermal mass: Light, wood frame, and thermal mass code=1\n"
     ]
    }
   ],
   "source": [
    "hse_type, hse_code = itemgetter('English', '@code')(h2k_dict['House']['Specifications']['HouseType'])\n",
    "plan_type, plan_code = itemgetter('English', '@code')(h2k_dict['House']['Specifications']['PlanShape'])\n",
    "storeys, storeys_code = itemgetter('English', '@code')(h2k_dict['House']['Specifications']['Storeys'])\n",
    "facingDirection, facingDirection_code = itemgetter('English', '@code')(h2k_dict['House']['Specifications']['FacingDirection'])\n",
    "thermalMass, thermalMass_code = itemgetter('English', '@code')(h2k_dict['House']['Specifications']['ThermalMass'])\n",
    "print(\"House type: {}, and type code={}\".format(hse_type, hse_code))\n",
    "print(\"Plan shape: {}, and shape code={}\".format(plan_type, plan_code))\n",
    "print(\"Storeys: {}, and storeys code={}\".format(storeys, storeys_code))\n",
    "print(\"Facing direction: {}, and facing direction code={}\".format(facingDirection, facingDirection_code))\n",
    "print(\"Thermal mass: {}, and thermal mass code={}\".format(thermalMass, thermalMass_code))"
   ]
  },
  {
   "cell_type": "code",
   "execution_count": 8,
   "id": "e75595e5",
   "metadata": {},
   "outputs": [
    {
     "name": "stdout",
     "output_type": "stream",
     "text": [
      "HouseType ('Row house, middle unit', '8')\n",
      "PlanShape ('Rectangular', '1')\n",
      "Storeys ('Two storeys', '3')\n",
      "FacingDirection ('North', '5')\n",
      "ThermalMass ('Light, wood frame', '1')\n",
      "SoilCondition ('Normal conductivity (dry sand, loam, clay)', '1')\n",
      "WaterLevel ('Normal (7-10m/23-33ft)', '2')\n"
     ]
    }
   ],
   "source": [
    "# Alternatively we can dump all the data with less code\n",
    "house_specs = ['HouseType', 'PlanShape', 'Storeys', 'FacingDirection', 'ThermalMass', 'SoilCondition', 'WaterLevel']\n",
    "for spec in house_specs:\n",
    "    print(spec, itemgetter('English', '@code')(h2k_dict['House']['Specifications'][spec]))"
   ]
  },
  {
   "cell_type": "code",
   "execution_count": 9,
   "id": "24285b28",
   "metadata": {},
   "outputs": [
    {
     "name": "stdout",
     "output_type": "stream",
     "text": [
      "2017\n"
     ]
    }
   ],
   "source": [
    "vintage_bins = {2:1920,3:1925,4:1935,5:1945,6:1955,7:1965,8:1975,9:1985,10:1995,11:2005}\n",
    "vintage_code = h2k_dict['House']['Specifications']['YearBuilt']['@code']\n",
    "if vintage_code in vintage_bins.keys():\n",
    "    vintage = vintage_bins[vintage_code]\n",
    "else:\n",
    "    vintage = h2k_dict['House']['Specifications']['YearBuilt']['@value']\n",
    "print(vintage)"
   ]
  },
  {
   "cell_type": "code",
   "execution_count": 10,
   "id": "21abdf54",
   "metadata": {},
   "outputs": [
    {
     "data": {
      "text/plain": [
       "{'@buildingType': 'House',\n",
       " '@defaultRoofCavity': False,\n",
       " '@effectiveMassFraction': Decimal('1'),\n",
       " 'HouseType': {'@code': '8',\n",
       "  'English': 'Row house, middle unit',\n",
       "  'French': 'Rangée, unité du milieu'},\n",
       " 'PlanShape': {'@code': '1',\n",
       "  'English': 'Rectangular',\n",
       "  'French': 'Rectangulaire'},\n",
       " 'Storeys': {'@code': '3', 'English': 'Two storeys', 'French': 'Deux étages'},\n",
       " 'FacingDirection': {'@code': '5', 'English': 'North', 'French': 'Nord'},\n",
       " 'ThermalMass': {'@code': '1',\n",
       "  'English': 'Light, wood frame',\n",
       "  'French': 'Légère, ossature de bois'},\n",
       " 'YearBuilt': {'@code': '1',\n",
       "  '@value': Decimal('2017'),\n",
       "  'English': 'User specified',\n",
       "  'French': \"Spécifié par l'util.\"},\n",
       " 'WallColour': {'@code': '10',\n",
       "  '@value': Decimal('0.4'),\n",
       "  'English': 'Default',\n",
       "  'French': 'par défaut'},\n",
       " 'SoilCondition': {'@code': '1',\n",
       "  'English': 'Normal conductivity (dry sand, loam, clay)',\n",
       "  'French': 'conductivité normale (sable sec, argile)'},\n",
       " 'RoofColour': {'@code': '10',\n",
       "  '@value': Decimal('0.4'),\n",
       "  'English': 'Default',\n",
       "  'French': 'par défaut'},\n",
       " 'WaterLevel': {'@code': '2',\n",
       "  'English': 'Normal (7-10m/23-33ft)',\n",
       "  'French': 'Normal (7-10m/23-33pi)'},\n",
       " 'RoofCavity': {'@ventilationRate': Decimal('0.5'),\n",
       "  '@volume': Decimal('2.1495'),\n",
       "  'GableEnds': {'@area': Decimal('1.11'),\n",
       "   'SheatingMaterial': {'@code': '5',\n",
       "    '@value': Decimal('0.0826'),\n",
       "    'English': 'Plywood/Part. bd 9.5 mm (3/8 in)',\n",
       "    'French': 'Cont./pan. part. 9.5 mm (3/8 po)'},\n",
       "   'ExteriorMaterial': {'@code': '3',\n",
       "    '@value': Decimal('0.11'),\n",
       "    'English': 'Hollow metal/vinyl cladding',\n",
       "    'French': 'Métal creux/revêtement vinyle'}},\n",
       "  'SlopedRoof': {'@area': Decimal('10.54'),\n",
       "   'SheatingMaterial': {'@code': '6',\n",
       "    '@value': Decimal('0.1105'),\n",
       "    'English': 'Plywood/Part. bd 12.7 mm (1/2 in)',\n",
       "    'French': 'Cont./pan. part. 12.7 mm (1/2 po)'},\n",
       "   'RoofingMaterial': {'@code': '2',\n",
       "    '@value': Decimal('0.078'),\n",
       "    'English': 'Asphalt shingles',\n",
       "    'French': \"Bardeau d'asphalte\"}}},\n",
       " 'HeatedFloorArea': {'@aboveGrade': Decimal('185.2'),\n",
       "  '@belowGrade': Decimal('91.1')}}"
      ]
     },
     "execution_count": 10,
     "metadata": {},
     "output_type": "execute_result"
    }
   ],
   "source": [
    "# Will proceed with the remaining keys\n",
    "h2k_dict['House']['Specifications']"
   ]
  },
  {
   "cell_type": "code",
   "execution_count": null,
   "id": "a415ee05",
   "metadata": {},
   "outputs": [],
   "source": []
  }
 ],
 "metadata": {
  "kernelspec": {
   "display_name": "Python 3 (ipykernel)",
   "language": "python",
   "name": "python3"
  },
  "language_info": {
   "codemirror_mode": {
    "name": "ipython",
    "version": 3
   },
   "file_extension": ".py",
   "mimetype": "text/x-python",
   "name": "python",
   "nbconvert_exporter": "python",
   "pygments_lexer": "ipython3",
   "version": "3.7.0"
  }
 },
 "nbformat": 4,
 "nbformat_minor": 5
}
